{
 "cells": [
  {
   "cell_type": "markdown",
   "metadata": {},
   "source": [
    "# CS 224D Assignment #2\n",
    "# Part [1]: Deep Networks: NER Window Model\n",
    "\n",
    "For this first part of the assignment, you'll build your first \"deep\" networks. On problem set 1, you computed the backpropagation gradient $\\frac{\\partial J}{\\partial w}$ for a two-layer network; in this problem set you'll implement a slightly more complex network to perform  named entity recognition (NER).\n",
    "\n",
    "Before beginning the programming section, you should complete parts (a) and (b) of the corresponding section of the handout."
   ]
  },
  {
   "cell_type": "markdown",
   "metadata": {},
   "source": [
    "##Malaa: (a): Gradients\n",
    "\n",
    "* Assume inputs are column vectors. If row vectors, then just take transpose of all operations below.\n",
    "\n",
    "* tanh: $$\\tanh'(z) = 1 - \\tanh^2(z)$$ which can be easily derived as $$\\tanh'(z) = 4 \\sigma'(2z) = 4 \\sigma(2z) (1 - \\sigma(2z))=2\\sigma (2-2\\sigma)=(2\\sigma-1+1)(1-\\tanh)=(1+\\tanh)(1-\\tanh)=1-\\tanh^2$$  \n",
    "  \n",
    "  \n",
    "* $U$: $$\\frac{\\partial J}{\\partial U}=(\\hat y - y) h^T = \\delta_2 h^T$$ where $\\delta_2 = \\hat y - y \\in R^{5\\times1}$ and $h \\in R^{100\\times1}$  \n",
    "  \n",
    "  \n",
    "* $b_2$: $$\\frac{\\partial J}{\\partial b_2}=\\delta_2$$  \n",
    "  \n",
    "  \n",
    "* $W$: $$\\frac{\\partial J}{\\partial W}=\\left( U^T \\delta_2  \\circ \\tanh'(h) \\right) x^T =\\delta_1 x^T$$ where $\\delta_1 = U^T \\delta_2  \\circ \\tanh'(h) \\in R^{100\\times1}$\n",
    "  \n",
    "  \n",
    "* $b_1$: $$\\frac{\\partial J}{\\partial b_1}=\\delta_1 $$\n",
    "  \n",
    "  \n",
    "* $L_i$: $$\\frac{\\partial J}{\\partial L_i} = W_c^T \\delta_1 $$ where $W_c \\in R^{100\\times50}$ is the central part of the matrix $W$ taking all the rows and columns 51-100."
   ]
  },
  {
   "cell_type": "markdown",
   "metadata": {},
   "source": [
    "##Malaa: (b): Prior\n",
    "\n",
    "* To compute the gradient wrt the regularized loss, simply add the weights to the respective gradient e.g. \n",
    "$$\\frac{\\partial J_{full}}{\\partial W}=\\frac{\\partial J}{\\partial W}+\\lambda W$$ and \n",
    "$$\\frac{\\partial J_{full}}{\\partial U}=\\frac{\\partial J}{\\partial U}+\\lambda U$$"
   ]
  },
  {
   "cell_type": "code",
   "execution_count": 2,
   "metadata": {
    "collapsed": false
   },
   "outputs": [
    {
     "name": "stdout",
     "output_type": "stream",
     "text": [
      "The autoreload extension is already loaded. To reload it, use:\n",
      "  %reload_ext autoreload\n"
     ]
    }
   ],
   "source": [
    "import sys, os\n",
    "from numpy import *\n",
    "from matplotlib.pyplot import *\n",
    "%matplotlib inline\n",
    "matplotlib.rcParams['savefig.dpi'] = 100\n",
    "\n",
    "%load_ext autoreload\n",
    "%autoreload 2"
   ]
  },
  {
   "cell_type": "markdown",
   "metadata": {},
   "source": [
    "## (c): Random Initialization Test\n",
    "Use the cell below to test your code."
   ]
  },
  {
   "cell_type": "code",
   "execution_count": 3,
   "metadata": {
    "collapsed": false
   },
   "outputs": [
    {
     "name": "stdout",
     "output_type": "stream",
     "text": [
      "[[ 0.46994114 -0.83008197  0.23148553  0.43094097 -0.00258593]\n",
      " [-0.47666619 -0.52297046  0.45125243 -0.57311684 -0.71301636]\n",
      " [ 0.32105262  0.78530031 -0.85918681  0.02111762  0.54147539]]\n"
     ]
    }
   ],
   "source": [
    "from misc import random_weight_matrix\n",
    "random.seed(10)\n",
    "print random_weight_matrix(3,5)"
   ]
  },
  {
   "cell_type": "markdown",
   "metadata": {},
   "source": [
    "## (d): Implementation\n",
    "\n",
    "We've provided starter code to load in the dataset and convert it to a list of \"windows\", consisting of indices into the matrix of word vectors. \n",
    "\n",
    "We pad each sentence with begin and end tokens `<s>` and `</s>`, which have their own word vector representations; additionally, we convert all words to lowercase, canonicalize digits (e.g. `1.12` becomes `DG.DGDG`), and replace unknown words with a special token `UUUNKKK`.\n",
    "\n",
    "You don't need to worry about the details of this, but you can inspect the `docs` variables or look at the raw data (in plaintext) in the `./data/` directory."
   ]
  },
  {
   "cell_type": "code",
   "execution_count": 5,
   "metadata": {
    "collapsed": true
   },
   "outputs": [],
   "source": [
    "import data_utils.utils as du\n",
    "import data_utils.ner as ner"
   ]
  },
  {
   "cell_type": "code",
   "execution_count": 6,
   "metadata": {
    "collapsed": false
   },
   "outputs": [],
   "source": [
    "# Load the starter word vectors\n",
    "wv, word_to_num, num_to_word = ner.load_wv('data/ner/vocab.txt',\n",
    "                                           'data/ner/wordVectors.txt')\n",
    "tagnames = [\"O\", \"LOC\", \"MISC\", \"ORG\", \"PER\"]\n",
    "num_to_tag = dict(enumerate(tagnames))\n",
    "tag_to_num = du.invert_dict(num_to_tag)\n",
    "\n",
    "# Set window size\n",
    "windowsize = 3\n",
    "\n",
    "# Load the training set\n",
    "docs = du.load_dataset('data/ner/train')\n",
    "X_train, y_train = du.docs_to_windows(docs, word_to_num, tag_to_num,\n",
    "                                      wsize=windowsize)\n",
    "\n",
    "# Load the dev set (for tuning hyperparameters)\n",
    "docs = du.load_dataset('data/ner/dev')\n",
    "X_dev, y_dev = du.docs_to_windows(docs, word_to_num, tag_to_num,\n",
    "                                  wsize=windowsize)\n",
    "\n",
    "# Load the test set (dummy labels only)\n",
    "docs = du.load_dataset('data/ner/test.masked')\n",
    "X_test, y_test = du.docs_to_windows(docs, word_to_num, tag_to_num,\n",
    "                                    wsize=windowsize)"
   ]
  },
  {
   "cell_type": "markdown",
   "metadata": {},
   "source": [
    "To avoid re-inventing the wheel, we provide a base class that handles a lot of the drudgery of managing parameters and running gradient descent. It's based on the classifier API used by [`scikit-learn`](http://scikit-learn.org/stable/), so if you're familiar with that library it should be easy to use. \n",
    "\n",
    "We'll be using this class for the rest of this assignment, so it helps to get acquainted with a simple example that should be familiar from Assignment 1. To keep this notebook uncluttered, we've put the code in the `softmax_example.py`; take a look at it there, then run the cell below."
   ]
  },
  {
   "cell_type": "code",
   "execution_count": 7,
   "metadata": {
    "collapsed": false
   },
   "outputs": [
    {
     "name": "stderr",
     "output_type": "stream",
     "text": [
      "grad_check: dJ/db error norm = 3.565e-10 [ok]\n",
      "    b dims: [5L] = 5 elem\n",
      "grad_check: dJ/dW error norm = 2.164e-11 [ok]\n",
      "    W dims: [5L, 100L] = 500 elem\n",
      "grad_check: dJ/dL[5] error norm = 2.646e-11 [ok]\n",
      "    L[5] dims: [100L] = 100 elem\n"
     ]
    }
   ],
   "source": [
    "from softmax_example import SoftmaxRegression\n",
    "sr = SoftmaxRegression(wv=zeros((10,100)), dims=(100,5))\n",
    "\n",
    "##\n",
    "# Automatic gradient checker!\n",
    "# this checks anything you add to self.grads or self.sgrads\n",
    "# using the method of Assignment 1\n",
    "sr.grad_check(x=5, y=4)"
   ]
  },
  {
   "cell_type": "markdown",
   "metadata": {},
   "source": [
    "In order to implement a model, you need to subclass `NNBase`, then implement the following methods:\n",
    "\n",
    "- `__init__()` (initialize parameters and hyperparameters)\n",
    "- `_acc_grads()` (compute and accumulate gradients)\n",
    "- `compute_loss()` (compute loss for a training example)\n",
    "- `predict()`, `predict_proba()`, or other prediction method (for evaluation)\n",
    "\n",
    "`NNBase` provides you with a few others that will be helpful:\n",
    "\n",
    "- `grad_check()` (run a gradient check - calls `_acc_grads` and `compute_loss`)\n",
    "- `train_sgd()` (run SGD training; more on this later)\n",
    "\n",
    "Your task is to implement the window model in `nerwindow.py`; a scaffold has been provided for you with instructions on what to fill in.\n",
    "\n",
    "When ready, you can test below:"
   ]
  },
  {
   "cell_type": "code",
   "execution_count": 15,
   "metadata": {
    "collapsed": false
   },
   "outputs": [
    {
     "name": "stderr",
     "output_type": "stream",
     "text": [
      "grad_check: dJ/db2 error norm = 3.222e-10 [ok]\n",
      "    b2 dims: [5L] = 5 elem\n",
      "grad_check: dJ/dU error norm = 2.83e-10 [ok]\n",
      "    U dims: [5L, 100L] = 500 elem\n",
      "grad_check: dJ/db1 error norm = 2.848e-09 [ok]\n",
      "    b1 dims: [100L] = 100 elem\n",
      "grad_check: dJ/dW error norm = 1.337e-08 [ok]\n",
      "    W dims: [100L, 150L] = 15000 elem\n",
      "grad_check: dJ/dL[6659] error norm = 4.417e-11 [ok]\n",
      "    L[6659] dims: [50L] = 50 elem\n"
     ]
    }
   ],
   "source": [
    "from nerwindow import WindowMLP\n",
    "clf = WindowMLP(wv, windowsize=windowsize, dims=[None, 100, 5],\n",
    "                reg=0.001, alpha=0.01)\n",
    "clf.grad_check(X_train[0], y_train[0]) # gradient check on single point"
   ]
  },
  {
   "cell_type": "markdown",
   "metadata": {},
   "source": [
    "Now we'll train your model on some data! You can implement your own SGD method, but we recommend that you just call `clf.train_sgd`. This takes the following arguments:\n",
    "\n",
    "- `X`, `y` : training data\n",
    "- `idxiter`: iterable (list or generator) that gives index (row of X) of training examples in the order they should be visited by SGD\n",
    "- `printevery`: int, prints progress after this many examples\n",
    "- `costevery`: int, computes mean loss after this many examples. This is a costly operation, so don't make this too frequent!\n",
    "\n",
    "The implementation we give you supports minibatch learning; if `idxiter` is a list-of-lists (or yields lists), then gradients will be computed for all indices in a minibatch before modifying the parameters (this is why we have you write `_acc_grad` instead of applying them directly!).\n",
    "\n",
    "Before training, you should generate a training schedule to pass as `idxiter`. If you know how to use Python generators, we recommend those; otherwise, just make a static list. Make the following in the cell below:\n",
    "\n",
    "- An \"epoch\" schedule that just iterates through the training set, in order, `nepoch` times.\n",
    "- A random schedule of `N` examples sampled with replacement from the training set.\n",
    "- A random schedule of `N/k` minibatches of size `k`, sampled with replacement from the training set."
   ]
  },
  {
   "cell_type": "code",
   "execution_count": 19,
   "metadata": {
    "collapsed": false
   },
   "outputs": [
    {
     "name": "stdout",
     "output_type": "stream",
     "text": [
      "Begin SGD...\n",
      "  Seen 0 in 0.00 s\n",
      "  [0]: mean loss 0.51174\n",
      "  Seen 10000 in 18.41 s\n",
      "  [10000]: mean loss 0.245951\n",
      "  Seen 20000 in 36.88 s\n",
      "  [20000]: mean loss 0.217405\n",
      "  Seen 30000 in 55.31 s\n",
      "  [30000]: mean loss 0.209077\n",
      "  Seen 40000 in 73.71 s\n",
      "  [40000]: mean loss 0.186839\n",
      "  Seen 50000 in 92.11 s\n",
      "  [50000]: mean loss 0.176741\n",
      "  Seen 60000 in 110.55 s\n",
      "  [60000]: mean loss 0.173112\n",
      "  Seen 70000 in 128.95 s\n",
      "  [70000]: mean loss 0.157103\n",
      "  Seen 80000 in 147.32 s\n",
      "  [80000]: mean loss 0.150271\n",
      "  Seen 90000 in 165.63 s\n",
      "  [90000]: mean loss 0.148758\n",
      "  Seen 100000 in 184.12 s\n",
      "  [100000]: mean loss 0.139893\n",
      "  Seen 110000 in 202.58 s\n",
      "  [110000]: mean loss 0.138523\n",
      "  Seen 120000 in 221.12 s\n",
      "  [120000]: mean loss 0.136645\n",
      "  Seen 130000 in 239.63 s\n",
      "  [130000]: mean loss 0.138187\n",
      "  Seen 140000 in 258.45 s\n",
      "  [140000]: mean loss 0.1309\n",
      "  Seen 150000 in 277.02 s\n",
      "  [150000]: mean loss 0.125027\n",
      "  Seen 160000 in 295.55 s\n",
      "  [160000]: mean loss 0.129949\n",
      "  Seen 170000 in 314.19 s\n",
      "  [170000]: mean loss 0.127221\n",
      "  Seen 180000 in 332.43 s\n",
      "  [180000]: mean loss 0.123613\n",
      "  Seen 190000 in 350.78 s\n",
      "  [190000]: mean loss 0.120035\n",
      "  Seen 200000 in 369.11 s\n",
      "  [200000]: mean loss 0.118865\n",
      "  [203621]: mean loss 0.117201\n",
      "SGD complete: 203621 examples in 384.44 seconds.\n"
     ]
    }
   ],
   "source": [
    "nepoch = 5\n",
    "N = nepoch * len(y_train)\n",
    "k = 5 # minibatch size\n",
    "\n",
    "random.seed(10) # do not change this!\n",
    "#### YOUR CODE HERE ####\n",
    "\n",
    "# Minibatch random schedule\n",
    "idx_mb = clf.randomiter(N/k, 1e5, batch=k)\n",
    "\n",
    "costs = clf.train_sgd(X_train[:1e5], y_train[:1e5], idxiter=idx_mb, alphaiter=None, printevery=10000, costevery=10000, devidx=None)\n",
    "\n",
    "#### END YOUR CODE ###"
   ]
  },
  {
   "cell_type": "markdown",
   "metadata": {},
   "source": [
    "Now call `train_sgd` to train on `X_train`, `y_train`. To verify that things work, train on 100,000 examples or so to start (with any of the above schedules). This shouldn't take more than a couple minutes, and you should get a mean cross-entropy loss around 0.4.\n",
    "\n",
    "Now, if this works well, it's time for production! You have three tasks here:\n",
    "\n",
    "1. Train a good model\n",
    "2. Plot a learning curve (cost vs. # of iterations)\n",
    "3. Use your best model to predict the test set\n",
    "\n",
    "You should train on the `train` data and evaluate performance on the `dev` set. The `test` data we provided has only dummy labels (everything is `O`); we'll compare your predictions to the true labels at grading time. \n",
    "\n",
    "Scroll down to section (f) for the evaluation code.\n",
    "\n",
    "We don't expect you to spend too much time doing an exhaustive search here; the default parameters should work well, although you can certainly do better. Try to achieve an F1 score of at least 76% on the dev set, as reported by `eval_performance`.\n",
    "\n",
    "Feel free to create new cells and write new code here, including new functions (helpers and otherwise) in `nerwindow.py`. When you have a good model, follow the instructions below to make predictions on the test set.\n",
    "\n",
    "A strong model may require 10-20 passes (or equivalent number of random samples) through the training set and could take 20 minutes or more to train - but it's also possible to be much, much faster!\n",
    "\n",
    "Things you may want to tune:\n",
    "- `alpha` (including using an \"annealing\" schedule to decrease the learning rate over time)\n",
    "- training schedule and minibatch size\n",
    "- regularization strength\n",
    "- hidden layer dimension\n",
    "- width of context window"
   ]
  },
  {
   "cell_type": "code",
   "execution_count": 25,
   "metadata": {
    "collapsed": false,
    "scrolled": true
   },
   "outputs": [
    {
     "name": "stdout",
     "output_type": "stream",
     "text": [
      "[(0, 10000), (0.51173970955333925, 0.2459505049116148)]\n"
     ]
    }
   ],
   "source": [
    "#### YOUR CODE HERE ####\n",
    "# Sandbox: build a good model by tuning hyperparameters\n",
    "\n",
    "\n",
    "#### END YOUR CODE ####"
   ]
  },
  {
   "cell_type": "code",
   "execution_count": 9,
   "metadata": {
    "collapsed": false,
    "scrolled": true
   },
   "outputs": [],
   "source": [
    "#### YOUR CODE HERE ####\n",
    "# Sandbox: build a good model by tuning hyperparameters\n",
    "\n",
    "\n",
    "#### END YOUR CODE ####"
   ]
  },
  {
   "cell_type": "code",
   "execution_count": 10,
   "metadata": {
    "collapsed": false,
    "scrolled": true
   },
   "outputs": [],
   "source": [
    "#### YOUR CODE HERE ####\n",
    "# Sandbox: build a good model by tuning hyperparameters\n",
    "\n",
    "\n",
    "#### END YOUR CODE ####"
   ]
  },
  {
   "cell_type": "markdown",
   "metadata": {},
   "source": [
    "## (e): Plot Learning Curves\n",
    "The `train_sgd` function returns a list of points `(counter, cost)` giving the mean loss after that number of SGD iterations.\n",
    "\n",
    "If the model is taking too long you can cut it off by going to *Kernel->Interrupt* in the IPython menu; `train_sgd` will return the training curve so-far, and you can restart without losing your training progress.\n",
    "\n",
    "Make two plots:\n",
    "\n",
    "- Learning curve using `reg = 0.001`, and comparing the effect of changing the learning rate: run with `alpha = 0.01` and `alpha = 0.1`. Use minibatches of size 5, and train for 10,000 minibatches with `costevery=200`. Be sure to scale up your counts (x-axis) to reflect the batch size. What happens if the model tries to learn too fast? Explain why this occurs, based on the relation of SGD to the true objective.\n",
    "\n",
    "- Learning curve for your best model (print the hyperparameters in the title), as trained using your best schedule. Set `costevery` so that you get at least 100 points to plot."
   ]
  },
  {
   "cell_type": "code",
   "execution_count": 26,
   "metadata": {
    "collapsed": false,
    "scrolled": true
   },
   "outputs": [
    {
     "data": {
      "image/png": "[encoded data removed]",
      "text/plain": [
       "<matplotlib.figure.Figure at 0xda4c2e8>"
      ]
     },
     "metadata": {},
     "output_type": "display_data"
    }
   ],
   "source": [
    "##\n",
    "# Plot your best learning curve here\n",
    "counts, costs = zip(*costs)\n",
    "figure(figsize=(6,4))\n",
    "plot(5*array(counts), costs, color='b', marker='o', linestyle='-')\n",
    "title(r\"Learning Curve ($\\alpha$=%g, $\\lambda$=%g)\" % (clf.alpha, clf.lreg))\n",
    "xlabel(\"SGD Iterations\"); ylabel(r\"Average $J(\\theta)$\"); \n",
    "ylim(ymin=0, ymax=max(1.1*max(costs),3*min(costs)));\n",
    "ylim(0,0.5)\n",
    "\n",
    "# Don't change this filename!\n",
    "savefig(\"ner.learningcurve.best.png\")"
   ]
  },
  {
   "cell_type": "code",
   "execution_count": 12,
   "metadata": {
    "collapsed": false
   },
   "outputs": [],
   "source": [
    "##\n",
    "# Plot comparison of learning rates here\n",
    "# feel free to change the code below\n",
    "\n",
    "figure(figsize=(6,4))\n",
    "counts, costs = zip(*trainingcurve1)\n",
    "plot(5*array(counts), costs, color='b', marker='o', linestyle='-', label=r\"$\\alpha=0.01$\")\n",
    "counts, costs = zip(*trainingcurve2)\n",
    "plot(5*array(counts), costs, color='g', marker='o', linestyle='-', label=r\"$\\alpha=0.1$\")\n",
    "title(r\"Learning Curve ($\\lambda=0.01$, minibatch k=5)\")\n",
    "xlabel(\"SGD Iterations\"); ylabel(r\"Average $J(\\theta)$\"); \n",
    "ylim(ymin=0, ymax=max(1.1*max(costs),3*min(costs)));\n",
    "legend()\n",
    "\n",
    "# Don't change this filename\n",
    "savefig(\"ner.learningcurve.comparison.png\")"
   ]
  },
  {
   "cell_type": "markdown",
   "metadata": {},
   "source": [
    "## (f): Evaluating your model\n",
    "Evaluate the model on the dev set using your `predict` function, and compute performance metrics below!"
   ]
  },
  {
   "cell_type": "code",
   "execution_count": 27,
   "metadata": {
    "collapsed": true
   },
   "outputs": [],
   "source": [
    "# Predict labels on the dev set\n",
    "yp = clf.predict(X_dev)\n",
    "# Save predictions to a file, one per line\n",
    "ner.save_predictions(yp, \"dev.predicted\")"
   ]
  },
  {
   "cell_type": "code",
   "execution_count": 28,
   "metadata": {
    "collapsed": false,
    "scrolled": true
   },
   "outputs": [
    {
     "name": "stdout",
     "output_type": "stream",
     "text": [
      "             precision    recall  f1-score   support\n",
      "\n",
      "          O       0.96      0.98      0.97     42759\n",
      "        LOC       0.91      0.71      0.80      2094\n",
      "       MISC       0.80      0.67      0.73      1268\n",
      "        ORG       0.66      0.58      0.62      2092\n",
      "        PER       0.85      0.76      0.80      3149\n",
      "\n",
      "avg / total       0.93      0.94      0.93     51362\n",
      "\n",
      "=== Performance (omitting 'O' class) ===\n",
      "Mean precision:  81.11%\n",
      "Mean recall:     69.09%\n",
      "Mean F1:         74.56%\n"
     ]
    }
   ],
   "source": [
    "from nerwindow import full_report, eval_performance\n",
    "full_report(y_dev, yp, tagnames) # full report, helpful diagnostics\n",
    "eval_performance(y_dev, yp, tagnames) # performance: optimize this F1"
   ]
  },
  {
   "cell_type": "code",
   "execution_count": 29,
   "metadata": {
    "collapsed": false
   },
   "outputs": [],
   "source": [
    "# Save your predictions on the test set for us to evaluate\n",
    "# IMPORTANT: make sure X_test is exactly as loaded \n",
    "# from du.docs_to_windows, so that your predictions \n",
    "# line up with ours.\n",
    "yptest = clf.predict(X_test)\n",
    "ner.save_predictions(yptest, \"test.predicted\")"
   ]
  },
  {
   "cell_type": "markdown",
   "metadata": {},
   "source": [
    "## Part [1.1]: Probing neuron responses\n",
    "\n",
    "You might have seen some results from computer vision where the individual neurons learn to detect edges, shapes, or even [cat faces](http://googleblog.blogspot.com/2012/06/using-large-scale-brain-simulations-for.html). We're going to do the same for language.\n",
    "\n",
    "Recall that each \"neuron\" is essentially a logistic regression unit, with weights corresponding to rows of the corresponding matrix. So, if we have a hidden layer of dimension 100, then we can think of our matrix $W \\in \\mathbb{R}^{100 \\times 150}$ as representing 100 hidden neurons each with weights `W[i,:]` and bias `b1[i]`.\n",
    "\n",
    "### (a): Hidden Layer, Center Word\n",
    "For now, let's just look at the center word, and ignore the rest of the window. This corresponds to columns `W[:,50:100]`, although this could change if you altered the window size for your model. For each neuron, find the top 10 words that it responds to, as measured by the dot product between `W[i,50:100]` and `L[j]`. Use the provided code to print these words and their scores for 5 neurons of your choice. In your writeup, briefly describe what you notice here.\n",
    "\n",
    "The `num_to_word` dictionary, loaded earlier, may be helpful."
   ]
  },
  {
   "cell_type": "code",
   "execution_count": 54,
   "metadata": {
    "collapsed": false,
    "scrolled": false
   },
   "outputs": [
    {
     "name": "stdout",
     "output_type": "stream",
     "text": [
      "Neuron 1\n",
      "[0]: (2.423) n't\n",
      "[1]: (2.031) too\n",
      "[2]: (1.906) starts\n",
      "[3]: (1.880) not\n",
      "[4]: (1.851) never\n",
      "[5]: (1.850) very\n",
      "[6]: (1.847) going\n",
      "[7]: (1.790) quite\n",
      "[8]: (1.790) happening\n",
      "[9]: (1.769) fairly\n",
      "Neuron 3\n",
      "[0]: (0.194) there\n",
      "[1]: (0.176) behalf\n",
      "[2]: (0.175) foster\n",
      "[3]: (0.163) she\n",
      "[4]: (0.152) forth\n",
      "[5]: (0.151) temporarily\n",
      "[6]: (0.150) periodically\n",
      "[7]: (0.148) suddenly\n",
      "[8]: (0.146) he\n",
      "[9]: (0.137) eventually\n",
      "Neuron 4\n",
      "[0]: (0.269) example\n",
      "[1]: (0.242) instance\n",
      "[2]: (0.225) explanation\n",
      "[3]: (0.224) outcome\n",
      "[4]: (0.219) estimated\n",
      "[5]: (0.216) apology\n",
      "[6]: (0.212) edition\n",
      "[7]: (0.208) interview\n",
      "[8]: (0.207) estimate\n",
      "[9]: (0.206) prize\n",
      "Neuron 6\n",
      "[0]: (1.034) example\n",
      "[1]: (0.988) explanation\n",
      "[2]: (0.966) instance\n",
      "[3]: (0.925) outcome\n",
      "[4]: (0.924) apology\n",
      "[5]: (0.909) cup\n",
      "[6]: (0.887) interview\n",
      "[7]: (0.878) estimated\n",
      "[8]: (0.869) score\n",
      "[9]: (0.862) recorded\n",
      "Neuron 8\n",
      "[0]: (0.248) united\n",
      "[1]: (0.248) overseas\n",
      "[2]: (0.240) centres\n",
      "[3]: (0.238) am\n",
      "[4]: (0.233) owned\n",
      "[5]: (0.227) centre\n",
      "[6]: (0.226) sector\n",
      "[7]: (0.224) coast\n",
      "[8]: (0.224) aboard\n",
      "[9]: (0.224) actively\n"
     ]
    }
   ],
   "source": [
    "# Recommended function to print scores\n",
    "# scores = list of float\n",
    "# words = list of str\n",
    "def print_scores(scores, words):\n",
    "    for i in range(len(scores)):\n",
    "        print \"[%d]: (%.03f) %s\" % (i, scores[i], words[i])\n",
    "\n",
    "#### YOUR CODE HERE ####\n",
    "\n",
    "neurons = [1,3,4,6,8] # change this to your chosen neurons\n",
    "\n",
    "\n",
    "\n",
    "for i in neurons:\n",
    "    # get scores for neurons in the middle layer\n",
    "    scores = clf.sparams.L.dot(clf.params.W[i, 50:100].T).T\n",
    "    #print scores.shape\n",
    "    assert scores.shape == (clf.sparams.L.shape[0],)\n",
    "\n",
    "    # sort the scores\n",
    "    topscores = sort(scores)\n",
    "    idx = argsort(scores)\n",
    "    # keep top ten\n",
    "    topscores = flipud(topscores[-10:])\n",
    "    idx = flipud(idx[-10:])\n",
    "    # return words\n",
    "    topwords = [num_to_word[w] for w in idx]\n",
    "    print \"Neuron %d\" % i\n",
    "    print_scores(topscores, topwords)\n",
    "    \n",
    "#### END YOUR CODE ####"
   ]
  },
  {
   "cell_type": "markdown",
   "metadata": {},
   "source": [
    "### (b): Model Output, Center Word\n",
    "Now, let's do the same for the output layer. Here we only have 5 neurons, one for each class. `O` isn't very interesting, but let's look at the other four.\n",
    "\n",
    "Here things get a little more complicated: since we take a softmax, we can't just look at the neurons separately. An input could cause several of these neurons to all have a strong response, so we really need to compute the softmax output and find the strongest inputs for each class.\n",
    "\n",
    "As before, let's consider only the center word (`W[:,50:100]`). For each class `ORG`, `PER`, `LOC`, and `MISC`, find the input words that give the highest probability $P(\\text{class}\\ |\\ \\text{word})$.\n",
    "\n",
    "You'll need to do the full feed-forward computation here - for efficiency, try to express this as a matrix operation on $L$. This is the same feed-forward computation as used to predict probabilities, just with $W$ replaced by `W[:,50:100]`.\n",
    "\n",
    "As with the hidden-layer neurons, print the top 10 words and their corresponding class probabilities for each class."
   ]
  },
  {
   "cell_type": "code",
   "execution_count": 55,
   "metadata": {
    "collapsed": false
   },
   "outputs": [
    {
     "name": "stdout",
     "output_type": "stream",
     "text": [
      "Output neuron 1: LOC\n",
      "[0]: (0.992) norway\n",
      "[1]: (0.991) pakistan\n",
      "[2]: (0.986) sweden\n",
      "[3]: (0.986) russia\n",
      "[4]: (0.985) malaysia\n",
      "[5]: (0.985) indonesia\n",
      "[6]: (0.982) italy\n",
      "[7]: (0.979) spain\n",
      "[8]: (0.978) egypt\n",
      "[9]: (0.976) switzerland\n",
      "\n",
      "Output neuron 2: MISC\n",
      "[0]: (0.997) italian\n",
      "[1]: (0.993) russian\n",
      "[2]: (0.992) english\n",
      "[3]: (0.992) german\n",
      "[4]: (0.992) austrian\n",
      "[5]: (0.992) turkish\n",
      "[6]: (0.992) olympic\n",
      "[7]: (0.992) belgian\n",
      "[8]: (0.991) brazilian\n",
      "[9]: (0.990) israeli\n",
      "\n",
      "Output neuron 3: ORG\n",
      "[0]: (0.999) commons\n",
      "[1]: (0.998) microsoft\n",
      "[2]: (0.997) metro\n",
      "[3]: (0.997) zenith\n",
      "[4]: (0.996) reuters\n",
      "[5]: (0.996) computing\n",
      "[6]: (0.995) quantum\n",
      "[7]: (0.994) neighborhood\n",
      "[8]: (0.994) arts\n",
      "[9]: (0.994) downtown\n",
      "\n",
      "Output neuron 4: PER\n",
      "[0]: (1.000) thompson\n",
      "[1]: (1.000) trembling\n",
      "[2]: (1.000) herb\n",
      "[3]: (1.000) innocence\n",
      "[4]: (0.999) martin\n",
      "[5]: (0.999) sarah\n",
      "[6]: (0.999) daniel\n",
      "[7]: (0.999) twig\n",
      "[8]: (0.999) anthony\n",
      "[9]: (0.999) stephen\n",
      "\n"
     ]
    }
   ],
   "source": [
    "#### YOUR CODE HERE ####\n",
    "from nn.math import softmax\n",
    "\n",
    "# prob for each center word per row Vx5 matrix\n",
    "P = zeros((clf.sparams.L.shape[0], 5))\n",
    "for i in arange(P.shape[0]):    \n",
    "    # feedforward pass\n",
    "    x = clf.sparams.L[i]\n",
    "    h = tanh(x.dot(clf.params.W[:,50:100].T) + clf.params.b1)\n",
    "    y_h = softmax(h.dot(clf.params.U.T) + clf.params.b2)\n",
    "    #assert y_h.shape == (5, )\n",
    "    P[i,:] = y_h\n",
    "\n",
    "for i in range(1,5):\n",
    "    print \"Output neuron %d: %s\" % (i, num_to_tag[i])\n",
    "    \n",
    "    # get words with top scores\n",
    "    topscores = flipud(sort(P[:,i]))[:10]\n",
    "    ids = flipud(argsort(P[:,i]))[:10]\n",
    "    topwords = [num_to_word[w] for w in ids]\n",
    "    \n",
    "    print_scores(topscores, topwords)\n",
    "    print \"\"\n",
    "\n",
    "#### END YOUR CODE ####"
   ]
  },
  {
   "cell_type": "markdown",
   "metadata": {},
   "source": [
    "### (c): Model Output, Preceding Word\n",
    "Now for one final task: let's look at the preceding word. Repeat the above analysis for the output layer, but use the first part of $W$, i.e. `W[:,:50]`.\n",
    "\n",
    "Describe what you see, and include these results in your writeup."
   ]
  },
  {
   "cell_type": "code",
   "execution_count": 56,
   "metadata": {
    "collapsed": false,
    "scrolled": false
   },
   "outputs": [
    {
     "name": "stdout",
     "output_type": "stream",
     "text": [
      "Output neuron 1: LOC\n",
      "[0]: (0.341) temperate\n",
      "[1]: (0.255) subtropical\n",
      "[2]: (0.254) cape\n",
      "[3]: (0.230) states\n",
      "[4]: (0.204) lakes\n",
      "[5]: (0.200) metropolitan\n",
      "[6]: (0.191) san\n",
      "[7]: (0.181) tropical\n",
      "[8]: (0.177) endemic\n",
      "[9]: (0.166) reaches\n",
      "\n",
      "Output neuron 2: MISC\n",
      "[0]: (0.381) dune\n",
      "[1]: (0.324) origin\n",
      "[2]: (0.306) latin\n",
      "[3]: (0.302) fantasy\n",
      "[4]: (0.297) medieval\n",
      "[5]: (0.285) grand\n",
      "[6]: (0.285) division\n",
      "[7]: (0.277) european\n",
      "[8]: (0.276) spanish\n",
      "[9]: (0.275) super\n",
      "\n",
      "Output neuron 3: ORG\n",
      "[0]: (0.877) st\n",
      "[1]: (0.852) pantheon\n",
      "[2]: (0.845) &\n",
      "[3]: (0.788) birmingham\n",
      "[4]: (0.781) palace\n",
      "[5]: (0.748) kings\n",
      "[6]: (0.736) metro\n",
      "[7]: (0.731) london\n",
      "[8]: (0.726) cathedral\n",
      "[9]: (0.719) manchester\n",
      "\n",
      "Output neuron 4: PER\n",
      "[0]: (0.997) adam\n",
      "[1]: (0.997) j.\n",
      "[2]: (0.997) roger\n",
      "[3]: (0.996) anthony\n",
      "[4]: (0.996) samuel\n",
      "[5]: (0.996) daniel\n",
      "[6]: (0.996) stephen\n",
      "[7]: (0.995) jr.\n",
      "[8]: (0.995) matt\n",
      "[9]: (0.995) grandfather\n",
      "\n"
     ]
    }
   ],
   "source": [
    "#### YOUR CODE HERE ####\n",
    "\n",
    "# prob for each center word per row Vx5 matrix\n",
    "P = zeros((clf.sparams.L.shape[0], 5))\n",
    "for i in arange(P.shape[0]):    \n",
    "    # feedforward pass\n",
    "    x = clf.sparams.L[i]\n",
    "    h = tanh(x.dot(clf.params.W[:,:50].T) + clf.params.b1)\n",
    "    y_h = softmax(h.dot(clf.params.U.T) + clf.params.b2)\n",
    "    #assert y_h.shape == (5, )\n",
    "    P[i,:] = y_h\n",
    "\n",
    "for i in range(1,5):\n",
    "    print \"Output neuron %d: %s\" % (i, num_to_tag[i])\n",
    "    \n",
    "    # get words with top scores\n",
    "    topscores = flipud(sort(P[:,i]))[:10]\n",
    "    ids = flipud(argsort(P[:,i]))[:10]\n",
    "    topwords = [num_to_word[w] for w in ids]\n",
    "    \n",
    "    print_scores(topscores, topwords)\n",
    "    print \"\"\n",
    "\n",
    "#### END YOUR CODE ####"
   ]
  },
  {
   "cell_type": "code",
   "execution_count": null,
   "metadata": {
    "collapsed": true
   },
   "outputs": [],
   "source": []
  }
 ],
 "metadata": {
  "kernelspec": {
   "display_name": "Python 2",
   "language": "python",
   "name": "python2"
  },
  "language_info": {
   "codemirror_mode": {
    "name": "ipython",
    "version": 2
   },
   "file_extension": ".py",
   "mimetype": "text/x-python",
   "name": "python",
   "nbconvert_exporter": "python",
   "pygments_lexer": "ipython2",
   "version": "2.7.9"
  }
 },
 "nbformat": 4,
 "nbformat_minor": 0
}
